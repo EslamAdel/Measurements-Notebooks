{
 "cells": [
  {
   "cell_type": "markdown",
   "metadata": {},
   "source": [
    "## Uncertainty as an Estimated Variance\n",
    "\n",
    "Defining the squared uncertainty $u_i^2$ as\n",
    "an estimate of the variance $\\sigma_i^2$: \n",
    "\\begin{equation}\n",
    "u_c^2 \\approx u_{x_1}^2\\left(\\frac{\\partial r}{\\partial x_1}\\right)^2 +  u_{x_2}^2\\left(\\frac{\\partial r}{\\partial x_2}\\right)^2 + 2u_{x_1x_2}\\left(\\frac{\\partial r}{\\partial x_1}\\right)\\left(\\frac{\\partial r}{\\partial x_2}\\right) + \\cdots\n",
    "\\end{equation}\n",
    "\n",
    "* Where $x_i$ is the measured values (measurands) and r is the result which is a function of measurands $r = f(x_i)$ and $u_i^2$ is the std deviation $\\sigma^2$ of the measurand $x_i$ \n",
    "\n",
    "### General Uncertainty \n",
    "We the assumtion that all measurands are independants (Not related to each other) \n",
    "\n",
    "\\begin{equation}\n",
    "u_c^2 \\approx \\sum_{i=1}^{J} u_{x_i}^2 \\theta_i^2 \n",
    "\\end{equation}\n",
    "\n",
    "\n",
    "Where $\\theta_i = \\frac{\\partial r}{\\partial x_i}$ is sensitivity coefficient\n",
    "\n",
    "$u_{x_i}$ is the absolute uncertainty of measurand\n",
    "\n",
    "### Single-Measurement Measurand Experiment\n",
    "\n",
    "Uncertainty is expressed as a function of the zero-order uncertainty of the instrument, $u_0$ , \n",
    "and the instrument uncertainty, $u_I$ (root sum square), as:\n",
    "\n",
    "\\begin{equation}\n",
    "u_d = \\sqrt{u_I^2 + u_0^2}\n",
    "\\end{equation}\n",
    "\n",
    "* The **resolution** of an instrument is the **smallest physically indicated division that the instrument displays or is marked**. \n",
    "* The zero-order uncertainty of the instrument, $u_0$ is set arbitrarily to be equal to one-half the resolution. \n",
    "$$u_0 = \\frac{1}{2}Resolution$$\n",
    "\n",
    "The instrument uncertainty, $u_I$, usually is stated by the manufacturer and\n",
    "results from a number of possible elemental instrument uncertainties, $e_i$ .\n",
    "Examples of $e_i$ are hysteresis, linearity, sensitivity, zero-shift, repeatability,\n",
    "stability, and thermal-drift errors. Thus, (root sum square)\n",
    "\\begin{equation}\n",
    "u_I=\\sqrt{\\Sigma_i^N (e_i)^2}\n",
    "\\end{equation}\n"
   ]
  },
  {
   "cell_type": "markdown",
   "metadata": {},
   "source": [
    "## Example 1\n",
    "Some car rental agencies use an onboard global positioning\n",
    "system (GPS) to track an automobile. Assume that a typical GPS’s precision is 2\\%\n",
    "and its accuracy is 5\\%. Determine the combined standard uncertainty in position indication that the agency would have if \n",
    "1. it uses the GPS system as is, and \n",
    "2. it recalibrates the GPS to within an accuracy of 1\\%.\n"
   ]
  },
  {
   "cell_type": "markdown",
   "metadata": {},
   "source": [
    "**Solution**"
   ]
  },
  {
   "cell_type": "code",
   "execution_count": 1,
   "metadata": {},
   "outputs": [
    {
     "name": "stdout",
     "output_type": "stream",
     "text": [
      "1. Combined Uncertainty : 5.39%\n",
      "2. Combined Uncertainty : 2.24%\n"
     ]
    }
   ],
   "source": [
    "import numpy as np \n",
    "up = 2\n",
    "ua1 = 5\n",
    "ua2 = 1\n",
    "uc1 = np.sqrt(up**2+ua1**2)\n",
    "uc2 = np.sqrt(up**2+ua2**2)\n",
    "print('1. Combined Uncertainty : %1.2f'%uc1 +'%')\n",
    "print('2. Combined Uncertainty : %1.2f'%uc2 + '%')"
   ]
  },
  {
   "cell_type": "markdown",
   "metadata": {},
   "source": [
    "## Example 2 \n",
    "Since you cannot measure the kinetic energy (KE) of a motorcycle directly, you settle for measuring its mass (G) and velocity (H). You determined that the average values are $\\bar{m} = 500$ kg and $\\bar{v} = 20$ m/s. \n",
    "Knowing that \n",
    "\\begin{equation}\n",
    "\\text{KE} = \\frac{1}{2} m v^2\n",
    "\\end{equation}\n",
    "what is the most probable uncertainty in your computations of KE if the uncertainty in your\n",
    "mass measurement is 0.3 kg and the uncertainty in your velocity measurement is 0.008 m/s?\n",
    "(Remember to include the unit in your answer)"
   ]
  },
  {
   "cell_type": "markdown",
   "metadata": {},
   "source": [
    "**Solution**\n",
    "\n",
    "Lets assume that mass and volecity are two independent measurements. So combined uncertainty will be \n",
    "\n",
    "$$u_c^2 \\approx u_{x_1}^2\\left(\\frac{\\partial r}{\\partial x_1}\\right)^2 +  u_{x_2}^2\\left(\\frac{\\partial r}{\\partial x_2}\\right)^2$$\n",
    "\n",
    "It will be \n",
    "\n",
    "$$u_{KE}^2 \\approx u_{m}^2\\left(\\frac{\\partial KE}{\\partial m}\\right)^2 +  u_{v}^2\\left(\\frac{\\partial KE}{\\partial v}\\right)^2$$\n",
    "\n",
    "and \n",
    "\n",
    "$$\\frac{\\partial KE}{\\partial m} = \\frac{1}{2} v^2$$\n",
    "\n",
    "$$\\frac{\\partial KE}{\\partial v} = m v$$"
   ]
  },
  {
   "cell_type": "code",
   "execution_count": 2,
   "metadata": {},
   "outputs": [
    {
     "name": "stdout",
     "output_type": "stream",
     "text": [
      "Uncertainety in KE measurements : 100 kg.m/S^2\n"
     ]
    }
   ],
   "source": [
    "m = 500\n",
    "v = 20 \n",
    "um = 0.3 \n",
    "uv = 0.008\n",
    "dke_m = 0.5 * v**2\n",
    "dke_v = m*v\n",
    "uc = np.sqrt((dke_m*um)**2+(dke_v*uv)**2)\n",
    "print('Uncertainety in KE measurements : %d'%uc + ' kg.m/S^2')"
   ]
  },
  {
   "cell_type": "markdown",
   "metadata": {},
   "source": [
    "## Example 3\n",
    "\n",
    "A pressure transducer is connected to a digital panel meter. The panel meter converts the pressure transducer’s output in volts back to pressure in psi. The manufacturer provides the following information about the panel meter:\n",
    "\n",
    "Item | value\n",
    "--------|-----|\n",
    "Resolution | 0.1 psi \n",
    "Repeatability | 0.1 psi |\n",
    "Linearity | with 0.1\\% of reading  \n",
    "Drift | less than 0.1 psi /6 months within 32 $^{\\circ}$F to 90 $^{\\circ}$F range  \n",
    "\n",
    "The only information given about the pressure transducer is that it has an accuracy\n",
    "of within 0.5 \\% of its reading. \n",
    "\n",
    "Estimate the combined standard uncertainty in a measured pressure at a nominal\n",
    "value of 100 psi at 70 $^{\\circ}$ F. \n",
    "Assume that the transducer’s response is linear with an output of 1 V for every psi of input."
   ]
  },
  {
   "cell_type": "markdown",
   "metadata": {},
   "source": [
    "**Solution**\n",
    "\n",
    "We have two elements (sources) of uncertainty \n",
    "\n",
    "1. Transducer uncertainty (Convert pressure $\\rightarrow$ Volt)\n",
    "2. Panel meter uncertainty (Convert Volt $\\rightarrow$ pressure (psi))\n",
    "\n",
    "SO the combined uncertainty is \n",
    "\n",
    "$$\n",
    "u_c = \\sqrt{u_{transducer}^2 + u_{panel}^2}\n",
    "$$\n",
    "\n",
    "\n",
    "**Transducer** \n",
    "\n",
    "$u_{transducer}  = 0.005\\times100$ = 0.5 psi\n",
    "\n",
    "**Panel**\n",
    "\n",
    "$u_{transducer}  =  \\sqrt{u_{0}^2 + u_{I}^2}$\n",
    "\n",
    "and nominal uncertainty is \n",
    "\n",
    "$u_{0}  =  \\frac{1}{2} Resolution$\n",
    "\n",
    "Device uncertainty is \n",
    "\n",
    "$u_{I}  =  \\sqrt{e_1^2 + e_2^2 + .... }$\n",
    "\n",
    "where $e_1, e_2, ...$ is error due to repeatability, linearity, ... "
   ]
  },
  {
   "cell_type": "code",
   "execution_count": 3,
   "metadata": {},
   "outputs": [
    {
     "name": "stdout",
     "output_type": "stream",
     "text": [
      "Combined Uncertainty of the instrument is : 0.53\n"
     ]
    }
   ],
   "source": [
    "p = 100\n",
    "u_trans = 0.005*p\n",
    "e_res = 0.1 \n",
    "e_rep = 0.1 \n",
    "e_lin = 0.001*p\n",
    "e_drift = 0.1\n",
    "u_panel_O = 0.5*e_res\n",
    "u_panel_I = np.sqrt(e_rep**2+e_lin**2+e_drift**2)\n",
    "u_panel = np.sqrt(u_panel_O**2 + u_panel_I**2)\n",
    "u = np.sqrt(u_trans**2 + u_panel**2)\n",
    "print('Combined Uncertainty of the instrument is : %.2f'%u)"
   ]
  },
  {
   "cell_type": "markdown",
   "metadata": {},
   "source": [
    "## Example 4\n",
    "\n",
    "A group of biomedical engineering students wish to\n",
    "determine the density of a cone to be used in the\n",
    "design of a prosthetic device. They plan to determine the\n",
    "density from measurements of the cone's mass, length h,smaller diameter and bigger diameter, which have instrument resolutions of 0.1\n",
    "lbm, 0.05 in., and 0.0005 in, and 0.0005 in, respectively. \n",
    "\n",
    "The balance used to measure the weight has an instrument uncertainty (accuracy) of 1\\%. Each of the different rulers used to\n",
    "measure the length, and diameter presents an instrument uncertainty (accuracy) of 0.5\\%. Nominal\n",
    "values of the mass, length, smaller diameter and bigger diameter are 4.5 lbm, 6.00 in., 3.5000 in, and 4.0000 in., respectively.\n",
    "\n",
    "1. What are the resolution uncertainties for the measurements of the mass, length, and diameter?\n",
    "2. Compute the sensitivity coefficients of the density with respect to the mass, length, and diameter at the nominal values.\n",
    "3. Estimate the zero-order uncertainty in the determination of the density.\n",
    "4. Which measurement contributes the most to the zero-order uncertainty?\n",
    "5. What are the absolute instrument uncertainties for the measurements of the mass, length, and diameter at the nominal values?\n",
    "6. Estimate the instrument uncertainty in the determination of the density.\n",
    "7. Estimate the design-stage uncertainty in the determination of the density.\n",
    "\n",
    "![](images/cone.png)"
   ]
  },
  {
   "cell_type": "markdown",
   "metadata": {},
   "source": [
    "**Solution**"
   ]
  },
  {
   "cell_type": "markdown",
   "metadata": {},
   "source": [
    "$$\n",
    "density  = \\frac{M}{V} = \\frac{12 \\times  M}{\\pi h(D^2 + d^2 + d\\times D)}\n",
    "$$\n",
    "\n",
    "1. \n",
    "$u_0 = \\frac{1}{2}\\times Resolution$"
   ]
  },
  {
   "cell_type": "code",
   "execution_count": 11,
   "metadata": {},
   "outputs": [
    {
     "name": "stdout",
     "output_type": "stream",
     "text": [
      "[0.05, 0.025, 0.00025, 0.00025]\n"
     ]
    }
   ],
   "source": [
    "uo_m = 0.5 * 0.1 \n",
    "uo_h = 0.5 * 0.05\n",
    "uo_D = 0.5 * 0.0005\n",
    "uo_d = 0.5 * 0.0005\n",
    "uo_all = [uo_m, uo_h, uo_D, uo_d ]\n",
    "print(uo_all)"
   ]
  },
  {
   "cell_type": "markdown",
   "metadata": {},
   "source": [
    "2. \n",
    "$$\n",
    "\\theta_i = \\frac{\\partial r}{\\partial x_i}\n",
    "$$\n",
    "\n",
    "So : \n",
    "\n",
    "$$\\theta_m = \\frac{12 }{\\pi h(D^2 + d^2 + d\\times D)}$$\n",
    "\n",
    "$$\\theta_h = \\frac{-12  \\times  M}{\\pi h^2(D^2 + d^2 + d\\times D)}$$\n",
    "\n",
    "$$\\theta_D = \\frac{-12  \\times  M \\times (2D + d)}{\\pi h(D^2 + d^2 + d\\times D)^2}$$\n",
    "\n",
    "$$\\theta_d = \\frac{-12  \\times  M \\times (2d + D)}{\\pi h(D^2 + d^2 + d\\times D)^2}$$"
   ]
  },
  {
   "cell_type": "code",
   "execution_count": 10,
   "metadata": {},
   "outputs": [
    {
     "name": "stdout",
     "output_type": "stream",
     "text": [
      "[0.015067923606333288, -0.011300942704749966, -0.018455977434976276, -0.01765354363345557]\n"
     ]
    }
   ],
   "source": [
    "M = 4.5 \n",
    "h = 6 \n",
    "d = 3.5\n",
    "D = 4\n",
    "\n",
    "theta_m = 12/(np.pi*h*(D**2 + d **2 + d*D))\n",
    "theta_h = -12*M/(np.pi*(h**2)*(D**2 + d **2 + d*D))\n",
    "theta_D = -12*M*(2*D+d)/(np.pi*h*(D**2 + d **2 + d*D)**2)\n",
    "theta_d = -12*M*(2*d+D)/(np.pi*h*(D**2 + d **2 + d*D)**2)\n",
    "thetas = [theta_m, theta_h, theta_D, theta_d ]\n",
    "print(thetas)"
   ]
  },
  {
   "cell_type": "markdown",
   "metadata": {},
   "source": [
    "3. Zero order uncertainty \n",
    "\n",
    "\\begin{equation}\n",
    "u_0 = \\sqrt{\\sum_{i=1}^{J} u_{x_i}^2 \\theta_i^2} \n",
    "\\end{equation}\n",
    "\n"
   ]
  },
  {
   "cell_type": "code",
   "execution_count": 20,
   "metadata": {},
   "outputs": [
    {
     "name": "stdout",
     "output_type": "stream",
     "text": [
      "Zero order Uncertainty: 0.000805\n"
     ]
    }
   ],
   "source": [
    "Uo = np.sqrt(sum([(uo_all[i] * thetas[i])**2 for i in range(4)]))\n",
    "print('Zero order Uncertainty: %f'%Uo)"
   ]
  },
  {
   "cell_type": "markdown",
   "metadata": {},
   "source": [
    "4. The mass "
   ]
  },
  {
   "cell_type": "markdown",
   "metadata": {},
   "source": [
    "5. The absolute uncertainty "
   ]
  },
  {
   "cell_type": "code",
   "execution_count": 21,
   "metadata": {},
   "outputs": [
    {
     "name": "stdout",
     "output_type": "stream",
     "text": [
      "[0.045, 0.03, 0.02, 0.0175]\n"
     ]
    }
   ],
   "source": [
    "ui_m = 0.01 * M \n",
    "ui_h = 0.005 * h\n",
    "ui_D = 0.005 * D\n",
    "ui_d = 0.005 * d\n",
    "ui_all = [ui_m, ui_h, ui_D, ui_d]\n",
    "print(ui_all)"
   ]
  },
  {
   "cell_type": "markdown",
   "metadata": {},
   "source": [
    "6. Instrumentation uncertainty \n",
    "\n",
    "\\begin{equation}\n",
    "u_I = \\sqrt{\\sum_{i=1}^{J} u_{x_i}^2 \\theta_i^2} \n",
    "\\end{equation}\n",
    "\n"
   ]
  },
  {
   "cell_type": "code",
   "execution_count": 23,
   "metadata": {},
   "outputs": [
    {
     "name": "stdout",
     "output_type": "stream",
     "text": [
      "Instrumentation Uncertainty : 0.000898\n"
     ]
    }
   ],
   "source": [
    "UI = np.sqrt(sum([(ui_all[i] * thetas[i])**2 for i in range(4)]))\n",
    "print('Instrumentation Uncertainty : %f' %UI)"
   ]
  },
  {
   "cell_type": "markdown",
   "metadata": {},
   "source": [
    "7. design-stage uncertainty \n",
    "\n",
    "\\begin{equation}\n",
    "u_d = \\sqrt{u_I^2 + u_0^2}\n",
    "\\end{equation}"
   ]
  },
  {
   "cell_type": "code",
   "execution_count": 25,
   "metadata": {},
   "outputs": [
    {
     "name": "stdout",
     "output_type": "stream",
     "text": [
      "Design stage Uncertainty : 0.001206 lbm/in^3\n"
     ]
    }
   ],
   "source": [
    "Ud = np.sqrt(Uo**2 + UI**2)\n",
    "print('Design stage Uncertainty : %f'%Ud + \" lbm/in^3\")"
   ]
  }
 ],
 "metadata": {
  "kernelspec": {
   "display_name": "Python 3",
   "language": "python",
   "name": "python3"
  },
  "language_info": {
   "codemirror_mode": {
    "name": "ipython",
    "version": 3
   },
   "file_extension": ".py",
   "mimetype": "text/x-python",
   "name": "python",
   "nbconvert_exporter": "python",
   "pygments_lexer": "ipython3",
   "version": "3.7.5"
  }
 },
 "nbformat": 4,
 "nbformat_minor": 2
}
