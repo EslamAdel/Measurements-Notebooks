{
 "cells": [
  {
   "cell_type": "markdown",
   "metadata": {},
   "source": [
    "# Errors in measurement"
   ]
  },
  {
   "cell_type": "markdown",
   "metadata": {},
   "source": [
    "## Systematic Errors"
   ]
  },
  {
   "cell_type": "markdown",
   "metadata": {},
   "source": [
    "## Exercise 1\n",
    "![](images/ex1.png)\n",
    "![](images/ex1_1.png)"
   ]
  },
  {
   "cell_type": "markdown",
   "metadata": {},
   "source": [
    "## Solution"
   ]
  },
  {
   "cell_type": "code",
   "execution_count": 9,
   "metadata": {},
   "outputs": [
    {
     "name": "stdout",
     "output_type": "stream",
     "text": [
      "R2//Rm =  904.7619047619048  Ohms\n",
      "Em = 9.5  Volts\n"
     ]
    }
   ],
   "source": [
    "def get_parallel_eq(res_list):\n",
    "    equ = 1/sum([1/r for r in res_list])\n",
    "    return equ\n",
    "# 1. \n",
    "R1, R2, Rm, v = 1000,1000, 9500, 20\n",
    "Em = v*get_parallel_eq([R2, Rm])/(R1+get_parallel_eq([R2, Rm]))\n",
    "print('R2//Rm = ',get_parallel_eq([R2, Rm]), \" Ohms\")\n",
    "print('Em =', Em, ' Volts')"
   ]
  },
  {
   "cell_type": "code",
   "execution_count": 10,
   "metadata": {},
   "outputs": [
    {
     "name": "stdout",
     "output_type": "stream",
     "text": [
      "Eab =  10.0  volt\n"
     ]
    }
   ],
   "source": [
    "#2. \n",
    "Eab = 20*R2/(R1+R2)\n",
    "print('Eab = ', Eab, ' volt')"
   ]
  },
  {
   "cell_type": "code",
   "execution_count": 13,
   "metadata": {},
   "outputs": [
    {
     "name": "stdout",
     "output_type": "stream",
     "text": [
      "Error =  5.0 %\n"
     ]
    }
   ],
   "source": [
    "#3\n",
    "error = 100*(Eab - Em)/Eab\n",
    "print('Error = ', error, \"%\")"
   ]
  },
  {
   "cell_type": "code",
   "execution_count": 24,
   "metadata": {},
   "outputs": [
    {
     "name": "stdout",
     "output_type": "stream",
     "text": [
      "New Rm = 330000  Ohm\n"
     ]
    }
   ],
   "source": [
    "# 4 \n",
    "R1, R2 = 5000, 10000\n",
    "Em_over_Eab = 1 - 0.01\n",
    "Eo = v*R2/(R1+R2)\n",
    "Em = Em_over_Eab * Eo \n",
    "Rp = R1/((v/Em)-1)\n",
    "new_Rm = 1/(1/Rp - 1/R2)\n",
    "print('New Rm = %d' %new_Rm, ' Ohm')"
   ]
  },
  {
   "cell_type": "markdown",
   "metadata": {},
   "source": [
    "## Ex2 \n",
    "![](images/ex2.png)"
   ]
  },
  {
   "cell_type": "markdown",
   "metadata": {},
   "source": [
    "## Solution\n"
   ]
  },
  {
   "cell_type": "code",
   "execution_count": 34,
   "metadata": {},
   "outputs": [
    {
     "name": "stdout",
     "output_type": "stream",
     "text": [
      "Error = 5 %\n"
     ]
    }
   ],
   "source": [
    "#1. \n",
    "R1, R2, R3, R4, R5, Rm = 200, 300, 500, 250, 500,4750\n",
    "Req = get_parallel_eq([get_parallel_eq([R1+R2, R3])+R4, R5])\n",
    "Error = 100*(1 - (Rm/(Rm+Req)))\n",
    "print('Error = %d'%Error, '%')"
   ]
  },
  {
   "cell_type": "code",
   "execution_count": 36,
   "metadata": {},
   "outputs": [
    {
     "name": "stdout",
     "output_type": "stream",
     "text": [
      "New Rm = 24749  Ohms\n"
     ]
    }
   ],
   "source": [
    "#2 \n",
    "new_error = 0.01\n",
    "new_Rm =Req/((1/(1-new_error))-1)\n",
    "print('New Rm = %d'%new_Rm, \" Ohms\")"
   ]
  },
  {
   "cell_type": "code",
   "execution_count": 71,
   "metadata": {},
   "outputs": [
    {
     "data": {
      "text/plain": [
       "1.0000000000000009"
      ]
     },
     "execution_count": 71,
     "metadata": {},
     "output_type": "execute_result"
    }
   ],
   "source": [
    "# Just to make sure\n",
    "100*(1 - new_Rm/(new_Rm+Req))"
   ]
  },
  {
   "cell_type": "code",
   "execution_count": 73,
   "metadata": {},
   "outputs": [
    {
     "data": {
      "text/plain": [
       "0.99"
      ]
     },
     "execution_count": 73,
     "metadata": {},
     "output_type": "execute_result"
    }
   ],
   "source": [
    "24750/(24750+250)"
   ]
  },
  {
   "cell_type": "markdown",
   "metadata": {},
   "source": [
    "## Random Errors"
   ]
  },
  {
   "cell_type": "code",
   "execution_count": 70,
   "metadata": {},
   "outputs": [
    {
     "data": {
      "text/plain": [
       "330000.0"
      ]
     },
     "execution_count": 70,
     "metadata": {},
     "output_type": "execute_result"
    }
   ],
   "source": [
    "0.99*(10000*5000/15000)*100"
   ]
  },
  {
   "cell_type": "code",
   "execution_count": 76,
   "metadata": {},
   "outputs": [
    {
     "data": {
      "text/plain": [
       "10.0"
      ]
     },
     "execution_count": 76,
     "metadata": {},
     "output_type": "execute_result"
    }
   ],
   "source": [
    "100*(0.1)"
   ]
  },
  {
   "cell_type": "code",
   "execution_count": null,
   "metadata": {},
   "outputs": [],
   "source": []
  }
 ],
 "metadata": {
  "kernelspec": {
   "display_name": "Python 3",
   "language": "python",
   "name": "python3"
  },
  "language_info": {
   "codemirror_mode": {
    "name": "ipython",
    "version": 3
   },
   "file_extension": ".py",
   "mimetype": "text/x-python",
   "name": "python",
   "nbconvert_exporter": "python",
   "pygments_lexer": "ipython3",
   "version": "3.7.5"
  }
 },
 "nbformat": 4,
 "nbformat_minor": 2
}
