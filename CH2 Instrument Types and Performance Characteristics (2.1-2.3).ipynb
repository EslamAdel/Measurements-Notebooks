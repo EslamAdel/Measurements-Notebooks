{
 "cells": [
  {
   "cell_type": "markdown",
   "metadata": {},
   "source": [
    "# Chapter 2 \n",
    "## Instrument Types and Performance Characteristics"
   ]
  },
  {
   "cell_type": "markdown",
   "metadata": {},
   "source": [
    "## 2.1 Introduction "
   ]
  },
  {
   "cell_type": "markdown",
   "metadata": {},
   "source": [
    "Covered in this chapter \n",
    "* classes of measurement instruments \n",
    "* Static characterstics of the instruments \n",
    "* Dynamic characteristics of the instruments "
   ]
  },
  {
   "cell_type": "markdown",
   "metadata": {},
   "source": [
    "## 2.2  Instruments Types "
   ]
  },
  {
   "cell_type": "markdown",
   "metadata": {},
   "source": [
    "Classification of the measurement devices according to different characteristics \n"
   ]
  },
  {
   "cell_type": "markdown",
   "metadata": {},
   "source": [
    "## 2.2.1 Active and Passive "
   ]
  },
  {
   "cell_type": "markdown",
   "metadata": {},
   "source": [
    "* According to the power source for the instruments \n",
    "\n",
    "|Passive | Active  \t|\n",
    "|--     |---\t|\n",
    "|   No external power source \t|  With external power source   \t|\n",
    "|  Simple for manufacturing \t|  More complex \t| \n",
    "| Ex: Pressure gauge | Ex : Petrol-tank level indicator |"
   ]
  },
  {
   "cell_type": "markdown",
   "metadata": {},
   "source": [
    "## 2.2.2 Null and Deflection Types"
   ]
  },
  {
   "cell_type": "markdown",
   "metadata": {},
   "source": [
    "* According to the way of measurement\n",
    "![Beam balance](http://www.canfortlab.com/pic/big/453_0.jpg)\n",
    "![Pointer Balance](http://www.technologyuk.net/science/measurement-and-units/images/measurement_0049.jpg)\n",
    "\n",
    "|Null  | Deflection  \t|\n",
    "|--     |---\t|\n",
    "|   More Accurate (Calibration)\t| Less accurate \t|\n"
   ]
  },
  {
   "cell_type": "markdown",
   "metadata": {
    "collapsed": true
   },
   "source": [
    "### 2.2.3 Analog vs Digital \n",
    "* Analog $\\rightarrow$ ? \n",
    "* Digital $\\rightarrow$ ?  \n"
   ]
  },
  {
   "cell_type": "markdown",
   "metadata": {},
   "source": [
    "### 2.2.4 Indicating and Instruments with signals\n",
    "Examples ?"
   ]
  },
  {
   "cell_type": "markdown",
   "metadata": {},
   "source": [
    "### Exercise 1 "
   ]
  },
  {
   "cell_type": "markdown",
   "metadata": {},
   "source": [
    "The figure below shows a Bourdon pressure gauge. Specify whether this sensor is\n",
    "![](images/pressure-guage.png)\n",
    "*  a passive or active instrument ? \n",
    "*  a deflection-type or null-type instrument ?\n",
    "* an analog or digital instrument.\n",
    "\n",
    "Justify your type selections."
   ]
  },
  {
   "cell_type": "markdown",
   "metadata": {},
   "source": [
    "### Exercise 2 \n",
    "\n",
    "\n",
    "**True or false and correct**\n",
    "\n",
    "* Quantity being measured by passive instrument simply modulate the magnitude of some external power source \n",
    "* Null type instruments are less accurate than deflection type insturments "
   ]
  },
  {
   "cell_type": "markdown",
   "metadata": {},
   "source": [
    "## 2.3 Static Charactersitics of the instruments"
   ]
  },
  {
   "cell_type": "markdown",
   "metadata": {},
   "source": [
    "* These are their steady-state attributes\n",
    "* when the output measurement value has settled to a constant reading after any initial varying output\n",
    "* Must be specified in the datasheet of the instrument \n",
    "\n",
    "What about dynamic characteristics ?? "
   ]
  },
  {
   "cell_type": "markdown",
   "metadata": {},
   "source": [
    "### 2.3.1 Accuracy and Inaccuracy (Uncertainty)"
   ]
  },
  {
   "cell_type": "markdown",
   "metadata": {},
   "source": [
    "* How reading is close to correct value\n",
    "* Usually related to full scale reading of the instrument"
   ]
  },
  {
   "cell_type": "markdown",
   "metadata": {},
   "source": [
    "**Example**"
   ]
  },
  {
   "cell_type": "markdown",
   "metadata": {},
   "source": [
    "Two pressure gauges (pressure gauge A and B) have a full scale accuracy of ± 5%.\n",
    "* Sensor A has a range of 0-1 bar \n",
    "* Sensor B 0-10 bar.\n",
    "\n",
    "Which gauge is more suitable to be used if the reading is 0.9 bar?"
   ]
  },
  {
   "cell_type": "markdown",
   "metadata": {},
   "source": [
    "**Solution**"
   ]
  },
  {
   "cell_type": "markdown",
   "metadata": {},
   "source": [
    "**For Sensor A**"
   ]
  },
  {
   "cell_type": "code",
   "execution_count": 1,
   "metadata": {
    "collapsed": false
   },
   "outputs": [
    {
     "data": {
      "text/plain": [
       "0.05"
      ]
     },
     "execution_count": 1,
     "metadata": {},
     "output_type": "execute_result"
    }
   ],
   "source": [
    "# For Sensor A \n",
    "inacc_Sensor_A = (5/100) * 1 # In bar \n",
    "inacc_Sensor_A"
   ]
  },
  {
   "cell_type": "markdown",
   "metadata": {},
   "source": [
    "The error will be $\\pm$ 0.05 bar"
   ]
  },
  {
   "cell_type": "code",
   "execution_count": 2,
   "metadata": {
    "collapsed": false
   },
   "outputs": [
    {
     "data": {
      "text/plain": [
       "5.555555555555556"
      ]
     },
     "execution_count": 2,
     "metadata": {},
     "output_type": "execute_result"
    }
   ],
   "source": [
    "# Percentage Error for 0.9\n",
    "reading = 0.9\n",
    "reading_error_Sensor_A = (inacc_Sensor_A / reading) * 100 \n",
    "reading_error_Sensor_A"
   ]
  },
  {
   "cell_type": "markdown",
   "metadata": {},
   "source": [
    "Error percetage for reading 0.9 bar of sensor A will be $\\pm$ 5.5%"
   ]
  },
  {
   "cell_type": "markdown",
   "metadata": {},
   "source": [
    "**For Sensor B**"
   ]
  },
  {
   "cell_type": "code",
   "execution_count": 3,
   "metadata": {
    "collapsed": false
   },
   "outputs": [
    {
     "data": {
      "text/plain": [
       "0.5"
      ]
     },
     "execution_count": 3,
     "metadata": {},
     "output_type": "execute_result"
    }
   ],
   "source": [
    "# For Sensor B\n",
    "inacc_Sensor_B = (5/100) * 10 # In bar \n",
    "inacc_Sensor_B "
   ]
  },
  {
   "cell_type": "markdown",
   "metadata": {},
   "source": [
    "The error will be $\\pm$ 0.5 bar"
   ]
  },
  {
   "cell_type": "code",
   "execution_count": 4,
   "metadata": {
    "collapsed": false
   },
   "outputs": [
    {
     "data": {
      "text/plain": [
       "55.55555555555556"
      ]
     },
     "execution_count": 4,
     "metadata": {},
     "output_type": "execute_result"
    }
   ],
   "source": [
    "reading = 0.9\n",
    "reading_error_Sensor_B = (inacc_Sensor_B / reading) * 100 \n",
    "reading_error_Sensor_B"
   ]
  },
  {
   "cell_type": "markdown",
   "metadata": {},
   "source": [
    "Error percetage for reading 0.9 bar of sensor B will be $\\pm$ 55.5%"
   ]
  },
  {
   "cell_type": "markdown",
   "metadata": {},
   "source": [
    "**Sensor A is better for reading 0.9 bar**"
   ]
  },
  {
   "cell_type": "markdown",
   "metadata": {},
   "source": [
    "### 2.3.2 Precision / Repeatability / Reproducibility"
   ]
  },
  {
   "cell_type": "markdown",
   "metadata": {},
   "source": [
    "* How multiple readings are close to each other.\n",
    "* Precision not mean accurate \n",
    "* Repeatability $\\rightarrow$  same input for short period of time. \n",
    "* Reproducibilit $\\rightarrow$ same input with different conditions, instruments, ... etc. \n",
    "\n",
    "![](images/precision.png)"
   ]
  },
  {
   "cell_type": "markdown",
   "metadata": {},
   "source": [
    "### 2.3.3 Tolerance"
   ]
  },
  {
   "cell_type": "markdown",
   "metadata": {},
   "source": [
    "* The maximum expected error of instrument \n",
    "* Related to accuracy \n",
    "* Describe the deviation of component value \n",
    "\n",
    "Example ??\n"
   ]
  },
  {
   "cell_type": "markdown",
   "metadata": {},
   "source": [
    "### 2.3.4 Range or Span\n"
   ]
  },
  {
   "cell_type": "markdown",
   "metadata": {},
   "source": [
    "* Max and Min values of reading"
   ]
  },
  {
   "cell_type": "markdown",
   "metadata": {},
   "source": [
    "### 2.3.5 Linearity \n"
   ]
  },
  {
   "cell_type": "markdown",
   "metadata": {},
   "source": [
    "* The relation between input and output\n",
    "* Nonelinearity is related to full scale reading\n",
    "* Nonelinearity is the deviation of reading from the straight line\n",
    "\n",
    "![](images/linearity.png)"
   ]
  },
  {
   "cell_type": "markdown",
   "metadata": {},
   "source": [
    "### 2.3.6 Sensitivity "
   ]
  },
  {
   "cell_type": "markdown",
   "metadata": {
    "collapsed": true
   },
   "source": [
    "* The slope of input/output line $$s = \\frac{\\Delta output}{\\Delta input}$$\n",
    "* Means the change in input that observed in the output \n",
    "* Example : Resistance thermometer \n",
    "![](images/sensitivity.png)\n",
    "\n",
    "\n",
    "* input (Value to be measured) : Temperature in °C  \n",
    "* output : resistance in $\\Omega$ \n",
    "* sensitivity = $\\frac{\\Omega}{°C}$\n",
    "\n",
    "**Multi-Stage system**\n",
    "![](images/multi-sens.png)\n",
    "\n",
    "Sensitivity of the whole system \n",
    "\n",
    "$$\n",
    "S = S_1  \\times S_2 \\times ....  \\times S_n\n",
    "$$\n",
    "\n",
    "* Example  : Consider a measuring system consisting of a transducer, amplifier and a recorder with sensitivity for each equipment given below:\n",
    "    * Transducer sensitivity 0.2 mV/°C\n",
    "    * Amplifier gain 2.0 V/mV\n",
    "    * Recorder sensitivity 5.0 mm/V\n",
    "    \n",
    "What is the sensitivty of the whole system  ?\n"
   ]
  },
  {
   "cell_type": "markdown",
   "metadata": {},
   "source": [
    "### 2.3.7 Threshold"
   ]
  },
  {
   "cell_type": "markdown",
   "metadata": {
    "collapsed": true
   },
   "source": [
    "Minimum value of input to get a none zero output"
   ]
  },
  {
   "cell_type": "markdown",
   "metadata": {},
   "source": [
    "### 2.3.8 Resolution"
   ]
  },
  {
   "cell_type": "markdown",
   "metadata": {},
   "source": [
    "How the ouptut is divided into sub-divisions "
   ]
  },
  {
   "cell_type": "markdown",
   "metadata": {},
   "source": [
    "### 2.3.9 Senstivity to disturbance \n"
   ]
  },
  {
   "cell_type": "markdown",
   "metadata": {},
   "source": [
    "* Zero drift (bias)\n",
    "* Sensitivity drift (slope) \n",
    "![](images/error.png)"
   ]
  },
  {
   "cell_type": "code",
   "execution_count": null,
   "metadata": {
    "collapsed": true
   },
   "outputs": [],
   "source": []
  }
 ],
 "metadata": {
  "kernelspec": {
   "display_name": "Python 3",
   "language": "python",
   "name": "python3"
  },
  "language_info": {
   "codemirror_mode": {
    "name": "ipython",
    "version": 3
   },
   "file_extension": ".py",
   "mimetype": "text/x-python",
   "name": "python",
   "nbconvert_exporter": "python",
   "pygments_lexer": "ipython3",
   "version": "3.5.4"
  }
 },
 "nbformat": 4,
 "nbformat_minor": 0
}
