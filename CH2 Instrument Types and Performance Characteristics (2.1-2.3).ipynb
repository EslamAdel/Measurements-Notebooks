{
 "cells": [
  {
   "cell_type": "markdown",
   "metadata": {},
   "source": [
    "# Chapter 2 \n",
    "## Instrument Types and Performance Characteristics"
   ]
  },
  {
   "cell_type": "markdown",
   "metadata": {},
   "source": [
    "## 2.1 Introduction "
   ]
  },
  {
   "cell_type": "markdown",
   "metadata": {},
   "source": [
    "Covered in this chapter \n",
    "* classes of measurement instruments \n",
    "* Static characterstics of the instruments \n",
    "* Dynamic characteristics of the instruments "
   ]
  },
  {
   "cell_type": "markdown",
   "metadata": {},
   "source": [
    "## 2.2  Instruments Types "
   ]
  },
  {
   "cell_type": "markdown",
   "metadata": {},
   "source": [
    "Classification of the measurement devices according to different characteristics \n"
   ]
  },
  {
   "cell_type": "markdown",
   "metadata": {},
   "source": [
    "## 2.2.1 Active and Passive "
   ]
  },
  {
   "cell_type": "markdown",
   "metadata": {},
   "source": [
    "* According to the power source for the instruments \n",
    "\n",
    "|Passive | Active  \t|\n",
    "|--     |---\t|\n",
    "|   No external power source \t|  With external power source   \t|\n",
    "|  Simple for manufacturing \t|  More complex \t| \n",
    "| Ex: Pressure gauge | Ex : Petrol-tank level indicator |"
   ]
  },
  {
   "cell_type": "markdown",
   "metadata": {},
   "source": [
    "## 2.2.2 Null and Deflection Types"
   ]
  },
  {
   "cell_type": "markdown",
   "metadata": {},
   "source": [
    "* According to the way of measurement\n",
    "![Beam balance](http://www.canfortlab.com/pic/big/453_0.jpg)\n",
    "![Pointer Balance](http://www.technologyuk.net/science/measurement-and-units/images/measurement_0049.jpg)\n",
    "\n",
    "|Null  | Deflection  \t|\n",
    "|--     |---\t|\n",
    "|   More Accurate (Calibration)\t| Less accurate \t|\n"
   ]
  },
  {
   "cell_type": "markdown",
   "metadata": {
    "collapsed": true
   },
   "source": [
    "### 2.2.3 Analog vs Digital \n",
    "* Analog $\\rightarrow$ ? \n",
    "* Digital $\\rightarrow$ ?  \n"
   ]
  },
  {
   "cell_type": "markdown",
   "metadata": {},
   "source": [
    "### 2.2.4 Indicating and Instruments with signals\n",
    "Examples ?"
   ]
  },
  {
   "cell_type": "markdown",
   "metadata": {},
   "source": [
    "### Exercise 1 "
   ]
  },
  {
   "cell_type": "markdown",
   "metadata": {},
   "source": [
    "The figure below shows a Bourdon pressure gauge. Specify whether this sensor is\n",
    "![](images/pressure-guage.png)\n",
    "*  a passive or active instrument ? \n",
    "*  a deflection-type or null-type instrument ?\n",
    "* an analog or digital instrument.\n",
    "\n",
    "Justify your type selections."
   ]
  },
  {
   "cell_type": "markdown",
   "metadata": {},
   "source": [
    "### Exercise 2 \n",
    "\n",
    "\n",
    "**True or false and correct**\n",
    "\n",
    "* Quantity being measured by passive instrument simply modulate the magnitude of some external power source \n",
    "* Null type instruments are less accurate than deflection type insturments "
   ]
  },
  {
   "cell_type": "markdown",
   "metadata": {},
   "source": [
    "## 2.3 Static Charactersitics of the instruments"
   ]
  },
  {
   "cell_type": "markdown",
   "metadata": {},
   "source": [
    "* These are their steady-state attributes\n",
    "* when the output measurement value has settled to a constant reading after any initial varying output\n",
    "* Must be specified in the datasheet of the instrument \n",
    "\n",
    "What about dynamic characteristics ?? "
   ]
  },
  {
   "cell_type": "markdown",
   "metadata": {},
   "source": [
    "### 2.3.1 Accuracy and Inaccuracy (Uncertainty)"
   ]
  },
  {
   "cell_type": "markdown",
   "metadata": {},
   "source": [
    "* How reading is close to correct value\n",
    "* It is related to full scale reading of the instrument"
   ]
  },
  {
   "cell_type": "markdown",
   "metadata": {},
   "source": [
    "**Example**"
   ]
  },
  {
   "cell_type": "markdown",
   "metadata": {},
   "source": [
    "A tungsten resistance thermometer with a range of –270 to +1100 C has a quoted\n",
    "inaccuracy of $\\pm$ 1.5% of full-scale reading. \n",
    "\n",
    "What is the likely measurement error percentage when it is reading a temperature of 950C?"
   ]
  },
  {
   "cell_type": "markdown",
   "metadata": {},
   "source": [
    "**Solution**"
   ]
  },
  {
   "cell_type": "code",
   "execution_count": 9,
   "metadata": {
    "collapsed": false
   },
   "outputs": [
    {
     "data": {
      "text/plain": [
       "20.55"
      ]
     },
     "execution_count": 9,
     "metadata": {},
     "output_type": "execute_result"
    }
   ],
   "source": [
    "# error = inaccuracy * full scale reading \n",
    "error = (1.5/100) * (1100+270)\n",
    "error # C"
   ]
  },
  {
   "cell_type": "code",
   "execution_count": 10,
   "metadata": {
    "collapsed": false
   },
   "outputs": [
    {
     "data": {
      "text/plain": [
       "2.1631578947368424"
      ]
     },
     "execution_count": 10,
     "metadata": {},
     "output_type": "execute_result"
    }
   ],
   "source": [
    "reading = 950 \n",
    "errorPercentage = error / reading  * 100\n",
    "errorPercentage "
   ]
  },
  {
   "cell_type": "code",
   "execution_count": null,
   "metadata": {
    "collapsed": true
   },
   "outputs": [],
   "source": []
  }
 ],
 "metadata": {
  "kernelspec": {
   "display_name": "Python 3",
   "language": "python",
   "name": "python3"
  },
  "language_info": {
   "codemirror_mode": {
    "name": "ipython",
    "version": 3
   },
   "file_extension": ".py",
   "mimetype": "text/x-python",
   "name": "python",
   "nbconvert_exporter": "python",
   "pygments_lexer": "ipython3",
   "version": "3.5.4"
  }
 },
 "nbformat": 4,
 "nbformat_minor": 0
}
