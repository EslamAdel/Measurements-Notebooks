{
 "cells": [
  {
   "cell_type": "markdown",
   "metadata": {},
   "source": [
    "# Frequency Response"
   ]
  },
  {
   "cell_type": "markdown",
   "metadata": {},
   "source": [
    "Transfer function of the system is a function of the frequecy of the input \n",
    "![](images/tf.png)\n",
    "\n",
    "\n",
    "$$\n",
    "    H(w) = \\frac{Y(w)}{X(w)}\n",
    "$$"
   ]
  },
  {
   "cell_type": "markdown",
   "metadata": {},
   "source": [
    "The Transfer function is two parts\n",
    "![](images/mp.png)"
   ]
  },
  {
   "cell_type": "markdown",
   "metadata": {},
   "source": [
    "$$|H(W)| = \\frac{Y(w)}{X(w)}$$\n",
    "$$\\angle{H(w)} = \\angle{Y(w)} - \\angle{X(w)}$$\n",
    "\n"
   ]
  },
  {
   "cell_type": "markdown",
   "metadata": {},
   "source": [
    "## Example 1\n",
    "Consider the circuit shown in. The input to the circuit is the voltage of the voltage source $v_i(t)$. The\n",
    "output is the voltage across the capacitor, $v_o (t)$. Find the transfer function\n",
    "![](images/Selection_026.png)\n"
   ]
  },
  {
   "cell_type": "markdown",
   "metadata": {},
   "source": [
    "**Solution**\n",
    "$$\n",
    "H(w) = \\frac{A}{(1+j\\frac{w}{5})(1+j\\frac{wL}{4})}\n",
    "$$"
   ]
  },
  {
   "cell_type": "markdown",
   "metadata": {},
   "source": [
    "## Example 2\n",
    "The input to the circuit in Figure is the voltage of the voltage source $v_i (t)$. The output is the voltage\n",
    "$v_o (t)$. The network function of this circuit is"
   ]
  },
  {
   "cell_type": "markdown",
   "metadata": {},
   "source": [
    "![](images/Selection_027.png)\n"
   ]
  },
  {
   "cell_type": "markdown",
   "metadata": {},
   "source": [
    "**Solution**\n",
    "$$p = 25$$\n",
    "$$C = 40  \\mu F$$"
   ]
  },
  {
   "cell_type": "markdown",
   "metadata": {},
   "source": [
    "## Resonance Circuits"
   ]
  },
  {
   "cell_type": "markdown",
   "metadata": {},
   "source": [
    "![](images/Selection_028.png)\n"
   ]
  },
  {
   "cell_type": "markdown",
   "metadata": {},
   "source": [
    "$$\n",
    "Z = \\frac{k}{1+jQ(\\frac{w}{w_o} - \\frac{w_o}{w})}\n",
    "$$\n",
    " \n",
    "Where $k = R$, $Q = R \\sqrt{\\frac{C}{L}}$, $w_o = \\frac{1}{\\sqrt{LC}}$ ,$BW=\\frac{w_o}{Q}$"
   ]
  },
  {
   "cell_type": "markdown",
   "metadata": {},
   "source": [
    "$$w_1 = \\frac{-w_o}{2Q}+\\sqrt{(\\frac{w_o}{2Q})^2+w_o^2}$$\n",
    "$$w_2 = \\frac{w_o}{2Q}+\\sqrt{(\\frac{w_o}{2Q})^2+w_o^2}$$"
   ]
  },
  {
   "cell_type": "markdown",
   "metadata": {},
   "source": [
    "### Example \n",
    "\n",
    "For a parallel RLC circuit with R = 10 kV,\n",
    "L = 1/120 H, and C = 1/30 $\\mu$F, find $w_o$, Q, $w_1, w_2$, and the\n",
    "bandwidth BW.\n"
   ]
  },
  {
   "cell_type": "markdown",
   "metadata": {},
   "source": [
    "**Solution**\n",
    "\n",
    "$w_o = 60 krad/s, Q = 20, w_1 = 58.519 krad/s, w_2 = 61.519 krad/s, and BW = 3 krad/s$"
   ]
  },
  {
   "cell_type": "markdown",
   "metadata": {},
   "source": [
    "## Second order spring mas damper system"
   ]
  },
  {
   "cell_type": "markdown",
   "metadata": {},
   "source": [
    "![](images/Selection_029.png)\n",
    "![](images/Selection_030.png)\n",
    "![](images/Selection_031.png)\n"
   ]
  },
  {
   "cell_type": "markdown",
   "metadata": {},
   "source": [
    "### $$\\frac{d^2y}{dt^2} + \\frac{c}{m}\\frac{dy}{dt} + \\frac{k}{m} y = F_{input}(t) $$"
   ]
  },
  {
   "cell_type": "markdown",
   "metadata": {},
   "source": [
    "\n",
    "![](images/Selection_032.png)"
   ]
  },
  {
   "cell_type": "markdown",
   "metadata": {},
   "source": [
    "### Example "
   ]
  },
  {
   "cell_type": "markdown",
   "metadata": {},
   "source": [
    "![](images/Selection_033.png)\n"
   ]
  },
  {
   "cell_type": "markdown",
   "metadata": {},
   "source": [
    "**Solution**\n",
    "* $\\zeta = 0.16$, will oscillate\n",
    "* $f_d = 75 $ Hz "
   ]
  }
 ],
 "metadata": {
  "kernelspec": {
   "display_name": "Python 3",
   "language": "python",
   "name": "python3"
  },
  "language_info": {
   "codemirror_mode": {
    "name": "ipython",
    "version": 3
   },
   "file_extension": ".py",
   "mimetype": "text/x-python",
   "name": "python",
   "nbconvert_exporter": "python",
   "pygments_lexer": "ipython3",
   "version": "3.7.5"
  }
 },
 "nbformat": 4,
 "nbformat_minor": 2
}
