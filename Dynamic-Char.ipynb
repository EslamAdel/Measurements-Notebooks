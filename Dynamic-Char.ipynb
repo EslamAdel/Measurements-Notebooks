{
 "cells": [
  {
   "cell_type": "markdown",
   "metadata": {},
   "source": [
    "# Measurment\n",
    "## Section 4\n",
    "## Dynamic Characteristics of Instruments\n"
   ]
  },
  {
   "cell_type": "markdown",
   "metadata": {},
   "source": [
    "* The behavior between starting measurment and getting steady state value .\n",
    "* Called Transient response .\n",
    "* System dynamics are represented using differential equation \n",
    "    * Ex: RC circuit $I_c = C \\frac{dV}{dt}$\n",
    "    * EX: Spring $Y=c \\frac{dX}{dt}$\n",
    "    \n",
    "    \n",
    "* General Equation for LTI system  {Figure} .\n",
    "$$a_n  \\frac{d^n}{dt^n}y(t)+ a_{n-1} \\frac{d^{n-1}}{dt^{n-1}}y(t)+........+a_1 \\frac{dy}{dt} +a_0y = b_0x(t)$$\n",
    "\n",
    "### Zero order\n",
    "* $a_0 y = b_0 x $     \n",
    "* $ y= \\frac{b_0}{a_0} x $\n",
    "* Instatanous change from {Figure}\n",
    "* No differential equation \n",
    "* Solutioin Exit {Figure}\n",
    "### First order  \n",
    "* First order D.E $$a_1 \\frac{dy}{dt}+a_0y = b_0x$$\n",
    "### Second order \n",
    "*  Second order D.E $$a_2 \\frac{dy^2}{dt^2}+a_1 \\frac{dy}{dt}+a_0y = b_0x$$\n"
   ]
  },
  {
   "cell_type": "markdown",
   "metadata": {},
   "source": [
    "# Revision  \n",
    "## Solving linear differential Equation of order n\n",
    "let $$a_n  \\frac{d^n}{dt^n}y(t)+ a_{n-1} \\frac{d^{n-1}}{dt^{n-1}}y(t)+........+a_1 \\frac{dy}{dt} +a_0y = b_0x(t)$$\n",
    "and X(t) one of these functions\n",
    "* c is Constant \n",
    "* $t^n$ where n +ve \n",
    "* e^at\n",
    "* Sin a_t , cos a_t\n",
    "* any combination of these functions.\n",
    "#### $y(t) =y_{C.S}+y_{P.S}$\n",
    "* C.S: Complementary (natural Solution)\n",
    "* P.S:Particular solution \n",
    "    #### $y_C.S$\n",
    "    * $x(t)=0$\n",
    "    * let $y(t)= e^{Dt}$\n",
    "    * $\\frac{dy(t)}{dt} = m e^{Dt}$\n",
    "    * .\n",
    "    * .\n",
    "    * $(a_n D^n + a_{n-1}D^{n-1}+.....+ a_1d +a_0)y(t) =0$\n",
    "    * $a_n D^n + a_{n-1}D^{n-1}+.....+ a_1d +a_0 =0$\n",
    "    * Then Get m\n",
    "    * $y_{C.S}= A_1 e^{D_1t}+A_2e^{D_2t}+......+A_n e^{m_n t}$\n",
    "    #### $y_{P.S}$\n",
    "    * Get U.C set of $x(t)$\n",
    "    *EX: \n",
    "        * $t^n$ $\\rightarrow$ { $t^n$ , $t^{n-1}$ ,....., t ,1 }\n",
    "        * $e^{at}$ $\\rightarrow$ {$e^{at}$}\n",
    "        * $sin(at)$ $\\rightarrow$ {$sin(at)$ , $cos(at)$}\n",
    "        * $t cos(t)$ $\\rightarrow$ {$tcos(t)$, $tsin(t)$ ,$sin(t)$, $cos(t )$}\n",
    "    #### EX: $\\frac {d^2 y}{dt^2}-3\\frac {dy}{dt} +2y = 4 t^2$\n",
    "        * Solution \n",
    "        * $ y(t)= y_{C.S} + y_{P.S}$\n",
    "        * $y_{C.S}$ where  R.H.S=0\n",
    "            *$\\frac {d^2 y}{dt^2}-3\\frac {dy}{dt} +2y = 0$\n",
    "            *$(D^2-3D+2)y(t)=0$\n",
    "            *$(D^2-3D+2)=0$\n",
    "            *$(D-2)(D-1)=0$\n",
    "            * D=2 ,D=1 \n",
    "            * $y_{C.S}= A_1 e^{2t}+A_2 e^t$\n",
    "        * y_{P.S} Where U.C set {$t^2$ ,t , 1 }\n",
    "            * let $y(t)=At^2 +Bt +C$\n",
    "            * $\\frac {dy}{dt}= 2At +B$\n",
    "            * $\\frac {dy^2}{dt}= 2A$\n",
    "            * Sub in D.E \n",
    "            * $ 2A-3(2A+B)+2(At^2+Bt+C)=4t^2$\n",
    "            * Comparing Coeff \n",
    "            * coeff (t2) $\\rightarrow$ $ 2A=4 $ $\\rightarrow$ A=2\n",
    "            * coeff (t) $\\rightarrow$ -6A+2B=0 $\\rightarrow$ B=6 \n",
    "            * coeff (1) $\\rightarrow$ 2A-3B +2C=0 $\\rightarrow$ c=7 \n",
    "            * $y_{P.S}= 2t^2 +6t+7$\n",
    "            * Then $y(t)=A_1e^{2t}+A_2e^t +2t^2+ 6t+7 $\n",
    "            * $A_1$ ,$A_2$ are constants  \n",
    "        \n",
    "        \n",
    "        \n",
    "        "
   ]
  },
  {
   "cell_type": "markdown",
   "metadata": {},
   "source": [
    "### Problem 2.18\n",
    "\n",
    "An unmanned submarine is equipped with temperature and depth measuring instruments\n",
    "and has radio equipment that can transmit the output readings of these instruments back to\n",
    "the surface. The submarine is initially floating on the surface of the sea with the instrument\n",
    "output readings in steady state. The depthmeasuring instrument is approximately zero order\n",
    "and the temperature transducer first order with a time constant of 50 seconds. The water\n",
    "temperature on the sea surface,$ T_0$ , is $20^◦C$ and the temperature $T_x$ at a depth of x metres\n",
    "is given by the relation: $T_x = T_0 − 0.01x$\n",
    "1. If the submarine starts diving at time zero, and thereafter goes down at a velocity of\n",
    "0.5 metres/second, draw a table showing the temperature and depth measurements\n",
    "reported at intervals of 100 seconds over the first 500 seconds of travel. Show also in\n",
    "the table the error in each temperature reading.\n",
    "2. What temperature does the submarine report at a depth of 1000 metres?"
   ]
  },
  {
   "cell_type": "markdown",
   "metadata": {},
   "source": [
    "**Solution**\n",
    "\n",
    "* $y(t)= -0.075e^{-\\frac{t}{50}}-0.005t +20.075$\n"
   ]
  },
  {
   "cell_type": "code",
   "execution_count": 10,
   "metadata": {
    "collapsed": false
   },
   "outputs": [
    {
     "name": "stdout",
     "output_type": "stream",
     "text": [
      "[20.0, 19.564849853757252, 19.073626327083343, 18.57481409358675, 18.074974840302907, 17.574996595005267]\n"
     ]
    }
   ],
   "source": [
    "# Solution of the ballon problem \n",
    "# The complete solution is (T = -0.075 e^(-t/15)+20.075-0.005t)\n",
    "import math\n",
    "import matplotlib.pyplot as plt\n",
    "%matplotlib inline\n",
    "Tfunc = lambda t : -0.075*math.exp(-t/50) + 20.075 - 0.005*t\n",
    "timeInterval = range(0,600,100)\n",
    "result = [Tfunc(i) for i in timeInterval]\n",
    "print(result)"
   ]
  },
  {
   "cell_type": "code",
   "execution_count": 11,
   "metadata": {
    "collapsed": false
   },
   "outputs": [
    {
     "data": {
      "text/plain": [
       "[20.0, 19.5, 19.0, 18.5, 18.0, 17.5]"
      ]
     },
     "execution_count": 11,
     "metadata": {},
     "output_type": "execute_result"
    }
   ],
   "source": [
    "TxFun = lambda t: 20-0.005*t\n",
    "actual = [TxFun(x) for x in timeInterval]\n",
    "actual"
   ]
  },
  {
   "cell_type": "code",
   "execution_count": 12,
   "metadata": {
    "collapsed": false,
    "scrolled": false
   },
   "outputs": [
    {
     "data": {
      "text/plain": [
       "<matplotlib.legend.Legend at 0x7fdc818f85c0>"
      ]
     },
     "execution_count": 12,
     "metadata": {},
     "output_type": "execute_result"
    },
    {
     "data": {
      "image/png": "[encoded data removed]",
      "text/plain": [
       "<matplotlib.figure.Figure at 0x7fdc88089048>"
      ]
     },
     "metadata": {},
     "output_type": "display_data"
    }
   ],
   "source": [
    "plt.plot(timeInterval, result, label = 'Measured')\n",
    "plt.plot(timeInterval, actual, label = 'Actual(True)')\n",
    "plt.xlabel('time in second')\n",
    "plt.ylabel('temperature in C')\n",
    "plt.legend() \n"
   ]
  },
  {
   "cell_type": "code",
   "execution_count": 13,
   "metadata": {
    "collapsed": false
   },
   "outputs": [
    {
     "name": "stdout",
     "output_type": "stream",
     "text": [
      "[0.0, 0.0648, 0.0736, 0.0748, 0.075, 0.075]\n"
     ]
    },
    {
     "data": {
      "text/plain": [
       "<matplotlib.text.Text at 0x7fdc818b46d8>"
      ]
     },
     "execution_count": 13,
     "metadata": {},
     "output_type": "execute_result"
    },
    {
     "data": {
      "image/png": "[encoded data removed]",
      "text/plain": [
       "<matplotlib.figure.Figure at 0x7fdc81944940>"
      ]
     },
     "metadata": {},
     "output_type": "display_data"
    }
   ],
   "source": [
    "temp_error = [abs(actual[i] - result[i]) for i in range(len(result))]\n",
    "print([round(a,4) for a in temp_error])\n",
    "plt.plot(timeInterval, temp_error)\n",
    "plt.xlabel('Time in sec')\n",
    "plt.ylabel('error in temp in C')"
   ]
  },
  {
   "cell_type": "code",
   "execution_count": 14,
   "metadata": {
    "collapsed": false
   },
   "outputs": [
    {
     "data": {
      "text/plain": [
       "10.075"
      ]
     },
     "execution_count": 14,
     "metadata": {},
     "output_type": "execute_result"
    }
   ],
   "source": [
    "# b \n",
    "# At x = 1000, t =1000/0.5\n",
    "Tfunc(2000)"
   ]
  },
  {
   "cell_type": "markdown",
   "metadata": {},
   "source": [
    "## Exam 2014"
   ]
  },
  {
   "cell_type": "markdown",
   "metadata": {},
   "source": [
    "The dynamic error in a temperature measurement using a thermometer is 70% at 3\n",
    "seconds after an input step change in temperature. Determine:\n",
    "1. the magnitude ratio at 3 seconds,\n",
    "2. the thermometers time constant (in seconds), and\n",
    "3. the magnitude ratio at 1 second.\n"
   ]
  },
  {
   "cell_type": "markdown",
   "metadata": {},
   "source": [
    "**Solution**\n",
    "* $ y()t =K(1-e^{-\\frac{t}{\\tau}})$\n",
    "    * at t=3 ratio =0.7 \n",
    "    * $ \\frac {k(1-e^{-\\frac{3}{\\tau}})}{K}= 0.7$\n",
    "    * $\\tau =8.4$ sec "
   ]
  },
  {
   "cell_type": "code",
   "execution_count": 70,
   "metadata": {
    "collapsed": false
   },
   "outputs": [
    {
     "name": "stdout",
     "output_type": "stream",
     "text": [
      "8.411019756171386\n",
      "0.30000000000000004\n",
      "0.11209599825739924\n"
     ]
    }
   ],
   "source": [
    "tau = -3/math.log(0.7)\n",
    "magRatio = 1 - math.exp(-3/tau)\n",
    "magRatioAt1Sec = 1 - math.exp(-1/tau)\n",
    "print(tau)\n",
    "print(magRatio)\n",
    "print(magRatioAt1Sec)"
   ]
  },
  {
   "cell_type": "markdown",
   "metadata": {},
   "source": [
    "## Example 2017\n",
    "A thermocouple is immersed in a liquid to monitor its temperature fluctuations. Assume\n",
    "the thermocouple acts as a first-order system.\n",
    "1. In a planned experiment, the thermocouple is to be exposed to a step change in\n",
    "temperature. The response characteristics of the thermocouple must be such that\n",
    "the thermocouples output reaches 95% of the final temperature within 5 seconds.\n",
    "Assume that the thermocouples bead (its sensing element) is spherical with a den-\n",
    "sity ρ = 8000 Kg/m 3 , a specific heat at constant volume C v = 380 J/(Kg.K) and a\n",
    "convective heat transfer coefficient h = 210 W/(m 2 K). The time constant of the\n",
    "v\n",
    "thermocouple is related to those parameters by τ = ρdC\n",
    "6h , where d is the diameter of\n",
    "the thermocouple’s bead. Determine the maximum diameter that the thermocouple\n",
    "can have and still meet the desired response characteristics.\n",
    "2. In another experiment on the same thermocouple, the temperature fluctuations (in ◦ C)\n",
    "vary in time as T (t) = 50 + 25 cos(4t). The output of the thermocouple transducer\n",
    "system E(t) (in mV) is linearly proportional to temperature and has a static sensitivity\n",
    "of 2 mV / ◦ C. Find the output E(t) (in mV)."
   ]
  },
  {
   "cell_type": "markdown",
   "metadata": {},
   "source": [
    "**Solution**\n",
    "* 1. $\\tau$ =1.67 sec  , d=692$\\mu$m\n",
    "* 2. $y(t)=48.88e^{-\\frac{t}{1.67}}+1.12cos4t +7.48sin4t+100$"
   ]
  },
  {
   "cell_type": "markdown",
   "metadata": {},
   "source": [
    "## Second order \n",
    "* $(a_2D^2 +a_1 D+a_0)y= b_0 x$\n",
    "* $(D^2 +\\frac {a_1}{a_2} D+\\frac{a_0}{a_2})y=\\frac{b_0}{a_2} x$\n",
    "* $(D^2+ 2\\alpha D +w{^2}_n)y(t)= K x(t)$\n",
    "* ### Natural Solution  \n",
    "    * $X(t)=0$\n",
    "    * $(D^2+ 2\\alpha D +w{^2}_n)y(t)= 0 $\n",
    "    * $ D=\\frac{-2\\alpha \\pm \\sqrt{4\\alpha^2 -4 w^2_n }}{2}$\n",
    "    * $D=-\\alpha \\pm \\sqrt{\\alpha^2 -w^2_n}$\n",
    "    \n",
    "   \n",
    "\n"
   ]
  },
  {
   "cell_type": "code",
   "execution_count": null,
   "metadata": {
    "collapsed": true
   },
   "outputs": [],
   "source": []
  },
  {
   "cell_type": "code",
   "execution_count": null,
   "metadata": {
    "collapsed": true
   },
   "outputs": [],
   "source": []
  },
  {
   "cell_type": "code",
   "execution_count": null,
   "metadata": {
    "collapsed": true
   },
   "outputs": [],
   "source": []
  },
  {
   "cell_type": "code",
   "execution_count": null,
   "metadata": {
    "collapsed": true
   },
   "outputs": [],
   "source": []
  },
  {
   "cell_type": "code",
   "execution_count": null,
   "metadata": {
    "collapsed": true
   },
   "outputs": [],
   "source": []
  },
  {
   "cell_type": "code",
   "execution_count": null,
   "metadata": {
    "collapsed": true
   },
   "outputs": [],
   "source": []
  },
  {
   "cell_type": "code",
   "execution_count": null,
   "metadata": {
    "collapsed": true
   },
   "outputs": [],
   "source": []
  },
  {
   "cell_type": "code",
   "execution_count": null,
   "metadata": {
    "collapsed": true
   },
   "outputs": [],
   "source": []
  },
  {
   "cell_type": "code",
   "execution_count": null,
   "metadata": {
    "collapsed": true
   },
   "outputs": [],
   "source": []
  },
  {
   "cell_type": "code",
   "execution_count": null,
   "metadata": {
    "collapsed": true
   },
   "outputs": [],
   "source": []
  },
  {
   "cell_type": "code",
   "execution_count": null,
   "metadata": {
    "collapsed": true
   },
   "outputs": [],
   "source": []
  },
  {
   "cell_type": "code",
   "execution_count": null,
   "metadata": {
    "collapsed": true
   },
   "outputs": [],
   "source": []
  },
  {
   "cell_type": "code",
   "execution_count": null,
   "metadata": {
    "collapsed": true
   },
   "outputs": [],
   "source": []
  },
  {
   "cell_type": "code",
   "execution_count": null,
   "metadata": {
    "collapsed": true
   },
   "outputs": [],
   "source": []
  },
  {
   "cell_type": "code",
   "execution_count": null,
   "metadata": {
    "collapsed": true
   },
   "outputs": [],
   "source": []
  },
  {
   "cell_type": "code",
   "execution_count": null,
   "metadata": {
    "collapsed": true
   },
   "outputs": [],
   "source": []
  },
  {
   "cell_type": "code",
   "execution_count": null,
   "metadata": {
    "collapsed": true
   },
   "outputs": [],
   "source": []
  },
  {
   "cell_type": "code",
   "execution_count": null,
   "metadata": {
    "collapsed": true
   },
   "outputs": [],
   "source": []
  },
  {
   "cell_type": "markdown",
   "metadata": {},
   "source": [
    "## Example 2.6"
   ]
  },
  {
   "cell_type": "code",
   "execution_count": 51,
   "metadata": {
    "collapsed": false
   },
   "outputs": [
    {
     "name": "stdout",
     "output_type": "stream",
     "text": [
      "[10.0, 9.864937160725557, 9.552302146413204, 9.148498537572541, 8.697887411582899, 8.22324450498956]\n"
     ]
    }
   ],
   "source": [
    "# Solution of the ballon problem \n",
    "# The complete solution is (T = -0.75 e^(-t/15)+10.75-0.05t)\n",
    "import math\n",
    "Tfunc = lambda t : -0.75*math.exp(-t/15) + 10.75 - 0.05*t\n",
    "timeInterval = range(0,60,10)\n",
    "result = [Tfunc(i) for i in timeInterval]\n",
    "print(result)"
   ]
  },
  {
   "cell_type": "code",
   "execution_count": 52,
   "metadata": {
    "collapsed": true
   },
   "outputs": [],
   "source": [
    "import matplotlib.pyplot as plt "
   ]
  },
  {
   "cell_type": "code",
   "execution_count": 53,
   "metadata": {
    "collapsed": true
   },
   "outputs": [],
   "source": [
    "%matplotlib inline"
   ]
  },
  {
   "cell_type": "code",
   "execution_count": 54,
   "metadata": {
    "collapsed": false
   },
   "outputs": [
    {
     "data": {
      "text/plain": [
       "[10.0, 9.5, 9.0, 8.5, 8.0, 7.5]"
      ]
     },
     "execution_count": 54,
     "metadata": {},
     "output_type": "execute_result"
    }
   ],
   "source": [
    "TxFun = lambda t: 10-0.05*t\n",
    "actual = [TxFun(x) for x in range(0,60,10)]\n",
    "actual"
   ]
  },
  {
   "cell_type": "code",
   "execution_count": 55,
   "metadata": {
    "collapsed": false
   },
   "outputs": [
    {
     "data": {
      "text/plain": [
       "<matplotlib.legend.Legend at 0x16f56943b00>"
      ]
     },
     "execution_count": 55,
     "metadata": {},
     "output_type": "execute_result"
    },
    {
     "data": {
      "image/png": "[encoded data removed]",
      "text/plain": [
       "<Figure size 432x288 with 1 Axes>"
      ]
     },
     "metadata": {},
     "output_type": "display_data"
    }
   ],
   "source": [
    "plt.plot(timeInterval, result, label = 'Measured')\n",
    "plt.plot(timeInterval, actual, label = 'Actual(True)')\n",
    "plt.xlabel('time in second')\n",
    "plt.ylabel('temperature in C')\n",
    "plt.legend() \n"
   ]
  },
  {
   "cell_type": "code",
   "execution_count": 56,
   "metadata": {
    "collapsed": false
   },
   "outputs": [
    {
     "name": "stdout",
     "output_type": "stream",
     "text": [
      "[0.0, 0.3649, 0.5523, 0.6485, 0.6979, 0.7232]\n"
     ]
    },
    {
     "data": {
      "text/plain": [
       "Text(0,0.5,'error in temp in C')"
      ]
     },
     "execution_count": 56,
     "metadata": {},
     "output_type": "execute_result"
    },
    {
     "data": {
      "image/png": "[encoded data removed]",
      "text/plain": [
       "<Figure size 432x288 with 1 Axes>"
      ]
     },
     "metadata": {},
     "output_type": "display_data"
    }
   ],
   "source": [
    "temp_error = [abs(actual[i] - result[i]) for i in range(len(result))]\n",
    "print([round(a,4) for a in temp_error])\n",
    "plt.plot(range(0,60,10), temp_error)\n",
    "plt.xlabel('Time in sec')\n",
    "plt.ylabel('error in temp in C')"
   ]
  },
  {
   "cell_type": "code",
   "execution_count": 57,
   "metadata": {
    "collapsed": false
   },
   "outputs": [
    {
     "data": {
      "text/plain": [
       "-39.25"
      ]
     },
     "execution_count": 57,
     "metadata": {},
     "output_type": "execute_result"
    }
   ],
   "source": [
    "# b \n",
    "# At x = 5000, t =5000/5\n",
    "Tfunc(1000)"
   ]
  },
  {
   "cell_type": "code",
   "execution_count": null,
   "metadata": {
    "collapsed": true
   },
   "outputs": [],
   "source": []
  },
  {
   "cell_type": "markdown",
   "metadata": {},
   "source": [
    "## Problem 2.18"
   ]
  }
 ],
 "metadata": {
  "kernelspec": {
   "display_name": "Python 3",
   "language": "python",
   "name": "python3"
  },
  "language_info": {
   "codemirror_mode": {
    "name": "ipython",
    "version": 3
   },
   "file_extension": ".py",
   "mimetype": "text/x-python",
   "name": "python",
   "nbconvert_exporter": "python",
   "pygments_lexer": "ipython3",
   "version": "3.5.4"
  }
 },
 "nbformat": 4,
 "nbformat_minor": 2
}
